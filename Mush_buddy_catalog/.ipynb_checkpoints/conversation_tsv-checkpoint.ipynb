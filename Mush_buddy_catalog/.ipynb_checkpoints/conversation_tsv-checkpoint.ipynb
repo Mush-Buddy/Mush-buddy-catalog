{
 "cells": [
  {
   "cell_type": "code",
   "execution_count": 14,
   "metadata": {},
   "outputs": [],
   "source": [
    "import json\n",
    "import csv\n",
    "import pandas as pd\n",
    "\n",
    "\n",
    "# def createMushroomLibrary(input_file, output_file):\n",
    "    \n",
    "#     csv_catalog = input_file\n",
    "    \n",
    "#     pd.read_csv(csv_catalog, sep='\\t')\n",
    "    \n",
    "# createMushroomLibrary('mushroomCatalog.tsv', 'mushroomCatalog.json')\n",
    "\n",
    "tsv_catalog = 'mushroomCatalog.tsv'\n",
    "\n",
    "parsed_catalog = pd.read_csv(tsv_catalog, sep='\\t')\n",
    "\n",
    "json_output = 'mushroomDictionary.json'\n",
    "output = parsed_catalog.to_json(json_output, indent = 1, orient='records')\n"
   ]
  },
  {
   "cell_type": "code",
   "execution_count": null,
   "metadata": {},
   "outputs": [],
   "source": []
  }
 ],
 "metadata": {
  "kernelspec": {
   "display_name": "Python 3 (ipykernel)",
   "language": "python",
   "name": "python3"
  },
  "language_info": {
   "codemirror_mode": {
    "name": "ipython",
    "version": 3
   },
   "file_extension": ".py",
   "mimetype": "text/x-python",
   "name": "python",
   "nbconvert_exporter": "python",
   "pygments_lexer": "ipython3",
   "version": "3.8.12"
  }
 },
 "nbformat": 4,
 "nbformat_minor": 4
}
