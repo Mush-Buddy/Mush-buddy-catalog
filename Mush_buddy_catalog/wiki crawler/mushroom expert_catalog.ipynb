{
 "cells": [
  {
   "cell_type": "code",
   "execution_count": 1,
   "metadata": {},
   "outputs": [
    {
     "name": "stdout",
     "output_type": "stream",
     "text": [
      "1.4.1\n"
     ]
    }
   ],
   "source": [
    "import json\n",
    "import csv\n",
    "import pandas as pd\n",
    "print(pd.__version__)"
   ]
  },
  {
   "cell_type": "code",
   "execution_count": 2,
   "metadata": {},
   "outputs": [],
   "source": [
    "catalog = pd.read_pickle('./catalog.pkl')"
   ]
  },
  {
   "cell_type": "code",
   "execution_count": 11,
   "metadata": {},
   "outputs": [
    {
     "name": "stdout",
     "output_type": "stream",
     "text": [
      "\n",
      "Abortiporus biennis\n",
      "[ Basidiomycota > Polyporales > Podoscyphaceae > Abortiporus . . . ]\n",
      "by Michael Kuo\n",
      "Two distinct forms of Abortiporus biennis can be encountered: a \"normal\" looking, regular sort of polypore with a brown cap and a whitish pore surface that bruises reddish to reddish brown—and a gnarled, messy-looking, \"aborted\" form that consists of a mass of irregular white pores that exude a reddish juice and bruise reddish brown; in this form there is hardly a cap or a stem to speak of, and as the mushroom grows it often engulfs sticks and blades of grass the way some species of Hydnellum do. Both forms are illustrated to the right.\n",
      "There are at least 55 taxonomic synonyms for Abortiporus, including many species names and genus names; this is probably at least partly because the two forms are so different looking and hard to reconcile, not only with each other, but with other polypores—and because Abortiporus biennis produces both sexual  spores and asexual chlamydospores, resulting in the separate naming of anamorphic forms.\n",
      "Description:\n",
      "Ecology: Saprobic on the wood of hardwoods and occasionally conifers; growing alone or gregariously around the bases of stumps and living trees; causing a white rot in deadwood and a white trunk rot in living wood; summer and fall (also winter and spring in warm climates); widely distributed in North America. The illustrated and described collections are from Illinois and Missouri.\n",
      "\"Aborted\" Form: An irregular mass of exposed pore surface, with or without a clearly defined upper surface that is smooth and reddish brown; ranging from singular and vaguely cup-shaped to clustered or nearly coral-like, with separated, individual projections; pore surface whitish to pinkish, bruising reddish to reddish brown; pores angular to maze-like or irregular, 1–3 per mm; flesh tough, whitish to pinkish, when fresh exuding a pinkish to orangish liquid.\n",
      "Cap: 5–15 cm across; roundish-to semicircular, kidney-shaped, or irregular in outline; planoconvex; finely to thickly velvety, or sometimes more or less bald; dry; light brown to reddish brown or tan, with a pale margin; sometimes with concentric zones of brown shades.\n",
      "Pore Surface: Whitish, bruising and discoloring reddish or pinkish brown; pores appearing \"stuffed\" when young, later angular to maze-like or irregular, 1–4 per mm; tubes to 5 mm deep.\n",
      "Stem: When present 3–10 cm long; 1–3 cm thick; lateral; tapering to base; soft and spongy; fuzzy; brownish.\n",
      "Flesh: White to pinkish or pale tan; exuding a pinkish juice when squeezed; tough.\n",
      "Odor: Fragrant or, often, somewhat foul.\n",
      "Chemical Reactions: KOH on flesh negative to pale brown.\n",
      "Spore Print: White.\n",
      "Microscopic Features: Spores 5–7 x 3–4.5 µm; ellipsoid; smooth; hyaline in KOH; inamyloid. Chlamydospores 5–10 x 5–7 µm; ellipsoid to subglobose; sometimes truncated; sometimes attached to a 2–10 µm, hairlike pedicel; smooth; walls about 0.5 µm thick; hyaline to ochraceous in KOH. Cystidia 20–50 x 4–7 µm; cylindric to subfusiform or sublageniform, occasionally with one or more constrictions, creating a \"chess bishop\" appearance; smooth; thin-walled; hyaline in KOH; yellowish and somewhat refractive in Melzer's reagent. Hyphal system monomitic; hyphae 2–5 µm wide; thin- and thick-walled; clamp connections present but often hard to locate.\n",
      "REFERENCES: (Bulliard, 1790) Singer, 1944. (Fries, 1821; Saccardo, 1888; Overholts, 1953; Arora, 1986; Breitenbach & Kränzlin, 1986; Gilbertson & Ryvarden, 1986; McNeil, 2006; Binion et al., 2008; Kuo & Methven, 2014; Desjardin, Wood & Stevens, 2015; Woehrel & Light, 2017; Baroni, 2017; Ginns, 2017; Justo et al., 2017; Sturgeon, 2018.) Herb. Kuo 06110301, 07160404, 09180405, 10240402, 10240703.\n",
      "This site contains no information about the edibility or toxicity of mushrooms.\n",
      "\n",
      "\n",
      "\n",
      "\n",
      "\n",
      "\n",
      "\n",
      "\n",
      "Spores\n",
      "Chlamydospores\n",
      "Cystidium\n",
      "Cystidium\n",
      "Cystidium\n",
      "© MushroomExpert.Com\n",
      "Cite this page as:\n",
      "Kuo, M. (2019, October). Abortiporus biennis. Retrieved from the MushroomExpert.Com Web site: http://www.mushroomexpert.com/abortiporus_biennis.html\n",
      "\n"
     ]
    }
   ],
   "source": [
    "# print(catalog.paragraphs[0])\n",
    "\n",
    "test_string = \n"
   ]
  },
  {
   "cell_type": "code",
   "execution_count": 10,
   "metadata": {},
   "outputs": [],
   "source": [
    "from selenium import webdriver\n",
    "import sys\n",
    "\n",
    "\n",
    "search_string = \"Agaricus_bisporus wikipedia\"\n",
    "browser = webdriver.Chrome('chromedriver')\n",
    "\n",
    "matched_elem = browser.get(\"https://www.google.com/search?q=\" + search_string + \"&start=\" + search_string)\n"
   ]
  },
  {
   "cell_type": "code",
   "execution_count": null,
   "metadata": {},
   "outputs": [],
   "source": []
  },
  {
   "cell_type": "code",
   "execution_count": null,
   "metadata": {},
   "outputs": [],
   "source": []
  }
 ],
 "metadata": {
  "kernelspec": {
   "display_name": "Python 3 (ipykernel)",
   "language": "python",
   "name": "python3"
  },
  "language_info": {
   "codemirror_mode": {
    "name": "ipython",
    "version": 3
   },
   "file_extension": ".py",
   "mimetype": "text/x-python",
   "name": "python",
   "nbconvert_exporter": "python",
   "pygments_lexer": "ipython3",
   "version": "3.8.12"
  }
 },
 "nbformat": 4,
 "nbformat_minor": 4
}
