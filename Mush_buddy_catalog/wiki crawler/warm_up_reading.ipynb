{
 "cells": [
  {
   "cell_type": "code",
   "execution_count": 21,
   "metadata": {},
   "outputs": [
    {
     "name": "stdout",
     "output_type": "stream",
     "text": [
      "Title>>>>> Agaricus bisporus - Wikipedia >?\n",
      "hymenium is free\n"
     ]
    }
   ],
   "source": [
    "# web scraper with selenium following tech with tim tutorial\n",
    "# Emilie Hopkinson\n",
    "# 02/17/22\n",
    "\n",
    "from selenium import webdriver\n",
    "from selenium.webdriver.common.keys import Keys\n",
    "import time\n",
    "from selenium.webdriver.common.by import By\n",
    "from selenium.webdriver.support.ui import WebDriverWait\n",
    "from selenium.webdriver.support import expected_conditions as EC\n",
    "\n",
    "\n",
    "driver = webdriver.Chrome()\n",
    "driver.get(\"https://en.wikipedia.org/wiki/Agaricus_bisporus\")\n",
    "print(\"Title>>>>>\",driver.title, \">?\")\n",
    "\n",
    "\n",
    "try:\n",
    "    main = WebDriverWait(driver, 10).until(\n",
    "        EC.presence_of_element_located((By.ID, \"mw-content-text\"))\n",
    "    )\n",
    "    test_string = main.text.splitlines()\n",
    "\n",
    "except:\n",
    "    driver.quit()\n",
    "\n",
    "    \n",
    "    \n",
    "for temp in test_string:\n",
    "    if \"hymenium is\" in temp:\n",
    "        print(temp)\n",
    "    \n",
    "    \n",
    "# print(test_string[1], \"\\t AHAHHHH\")\n",
    "\n",
    "# if \"hymenium is\" in test_string:\n",
    "#     print(\"TRUE___\")\n",
    "# else:\n",
    "#     print(\"FALSE___\")\n",
    "    \n",
    "\n",
    "\n",
    "# time.sleep(5)\n",
    "\n",
    "# driver.close()\n",
    "driver.quit()"
   ]
  },
  {
   "cell_type": "code",
   "execution_count": null,
   "metadata": {},
   "outputs": [],
   "source": []
  }
 ],
 "metadata": {
  "kernelspec": {
   "display_name": "Python 3",
   "language": "python",
   "name": "python3"
  },
  "language_info": {
   "codemirror_mode": {
    "name": "ipython",
    "version": 3
   },
   "file_extension": ".py",
   "mimetype": "text/x-python",
   "name": "python",
   "nbconvert_exporter": "python",
   "pygments_lexer": "ipython3",
   "version": "3.8.5"
  }
 },
 "nbformat": 4,
 "nbformat_minor": 4
}
